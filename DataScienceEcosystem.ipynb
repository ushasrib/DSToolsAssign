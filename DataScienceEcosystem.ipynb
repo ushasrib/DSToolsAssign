{
 "cells": [
  {
   "cell_type": "markdown",
   "id": "ffd2b326",
   "metadata": {},
   "source": [
    "# Data Science Tools and Ecosystem"
   ]
  },
  {
   "cell_type": "markdown",
   "id": "c313c84c",
   "metadata": {},
   "source": [
    "## In this notebook, Data Science Tools and Ecosystem are summarized."
   ]
  },
  {
   "cell_type": "markdown",
   "id": "bc3a8642",
   "metadata": {},
   "source": [
    "### Some of the popular languages that Data Scientists use are :\n",
    " 1. Python\n",
    " 2. R\n",
    " 3. Julia"
   ]
  },
  {
   "cell_type": "markdown",
   "id": "2085ef46",
   "metadata": {},
   "source": [
    "### Some of the commonly used libraries used by Data Scientists include:\n",
    "    1. Pandas\n",
    "    2. Numpy\n",
    "    3. Matplotlib"
   ]
  },
  {
   "cell_type": "markdown",
   "id": "828b555f",
   "metadata": {},
   "source": [
    "| Data Science Tools |\n",
    "| ------------------ |\n",
    "| Jupyter Notebooks  |\n",
    "| Github repositories |\n",
    "| Google Colab |                "
   ]
  },
  {
   "cell_type": "markdown",
   "id": "6c59b6d5",
   "metadata": {},
   "source": [
    "### Below are a few examples of evaluating arithmetic expressions in Python"
   ]
  },
  {
   "cell_type": "code",
   "execution_count": 2,
   "id": "a2aeccc8",
   "metadata": {},
   "outputs": [
    {
     "data": {
      "text/plain": [
       "17"
      ]
     },
     "execution_count": 2,
     "metadata": {},
     "output_type": "execute_result"
    }
   ],
   "source": [
    "(3*4)+5"
   ]
  },
  {
   "cell_type": "code",
   "execution_count": 4,
   "id": "38ebd093",
   "metadata": {},
   "outputs": [
    {
     "data": {
      "text/plain": [
       "3.3333333333333335"
      ]
     },
     "execution_count": 4,
     "metadata": {},
     "output_type": "execute_result"
    }
   ],
   "source": [
    "# This expression converts minutes to hours\n",
    "200 /60"
   ]
  },
  {
   "cell_type": "markdown",
   "id": "350ef939",
   "metadata": {},
   "source": [
    "**Objectives**\n",
    "* List popular languages for Data Science\n",
    "* Learn how to use Git and Github\n",
    "* Learn how to create anconda environment\n",
    "* Learn how to create a Jupyter notebook and use it to collaborate\n",
    "* Learn how to use R studio and create visualizations\n"
   ]
  },
  {
   "cell_type": "markdown",
   "id": "198d305d",
   "metadata": {},
   "source": [
    "## Author\n",
    "Ushasri Bhogaraju"
   ]
  }
 ],
 "metadata": {
  "kernelspec": {
   "display_name": "Python 3 (ipykernel)",
   "language": "python",
   "name": "python3"
  },
  "language_info": {
   "codemirror_mode": {
    "name": "ipython",
    "version": 3
   },
   "file_extension": ".py",
   "mimetype": "text/x-python",
   "name": "python",
   "nbconvert_exporter": "python",
   "pygments_lexer": "ipython3",
   "version": "3.9.16"
  }
 },
 "nbformat": 4,
 "nbformat_minor": 5
}
